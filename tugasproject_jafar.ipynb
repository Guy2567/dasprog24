{
 "cells": [
  {
   "cell_type": "code",
   "execution_count": 2,
   "id": "d7a3cdaa-1559-48c0-9544-2f8962f20a3e",
   "metadata": {},
   "outputs": [
    {
     "name": "stdin",
     "output_type": "stream",
     "text": [
      "Masukkan usia:  16\n"
     ]
    },
    {
     "name": "stdout",
     "output_type": "stream",
     "text": [
      "remaja (13-17 tahun)\n"
     ]
    }
   ],
   "source": [
    "#Katergori usia\n",
    "usia = int(input(\"Masukkan usia: \"))\n",
    "\n",
    "if usia >= 60:\n",
    "    print(\"lansia (60 tahun ke atas)\")\n",
    "elif usia >= 18:\n",
    "    print(\"dewasa (18-59 tahun)\")\n",
    "elif usia >= 13:\n",
    "    print(\"remaja (13-17 tahun)\")\n",
    "else:\n",
    "    print(\"anak-anak (0-12 tahun)\")"
   ]
  },
  {
   "cell_type": "code",
   "execution_count": 4,
   "id": "b32768e1-22eb-4ae5-87bd-bb94fe0087fd",
   "metadata": {},
   "outputs": [
    {
     "name": "stdin",
     "output_type": "stream",
     "text": [
      "Isikan Umur Tiket 1:  13\n",
      "Isikan Umur Tiket 2:  14\n",
      "Isikan Umur Tiket 3:  17\n"
     ]
    },
    {
     "name": "stdout",
     "output_type": "stream",
     "text": [
      "Total harga tiket: Rp 45,000\n"
     ]
    }
   ],
   "source": [
    "#Harga tiket taman hiburan\n",
    "tiket1 = int(input(\"Isikan Umur Tiket 1: \"))\n",
    "tiket2 = int(input(\"Isikan Umur Tiket 2: \"))\n",
    "tiket3 = int(input(\"Isikan Umur Tiket 3: \"))\n",
    "\n",
    "def hitung_harga(usia):\n",
    "    if usia >= 60:\n",
    "        return 0\n",
    "    elif usia >= 18:\n",
    "        return 25000\n",
    "    elif usia >= 13:\n",
    "        return 15000\n",
    "    else:\n",
    "        return 10000\n",
    "\n",
    "total = hitung_harga(tiket1) + hitung_harga(tiket2) + hitung_harga(tiket3)\n",
    "print(f\"Total harga tiket: Rp {total:,}\")"
   ]
  },
  {
   "cell_type": "code",
   "execution_count": 8,
   "id": "1cec7400-bd37-4d2a-9cc6-24f856136fcb",
   "metadata": {},
   "outputs": [
    {
     "name": "stdin",
     "output_type": "stream",
     "text": [
      "Masukkan umur:  25\n",
      "Masukkan harga makanan:  250000\n"
     ]
    },
    {
     "name": "stdout",
     "output_type": "stream",
     "text": [
      "Harga setelah diskon: Rp 250000\n"
     ]
    }
   ],
   "source": [
    "# Program Menghitung Harga Setelah Diskon\n",
    "def harga_setelah_diskon(usia, harga):\n",
    "    if usia <= 12:\n",
    "        return harga * 0.5\n",
    "    elif usia >= 60:\n",
    "        return harga * 0.7\n",
    "    else:\n",
    "        return harga\n",
    "    \n",
    "umur = int(input(\"Masukkan umur: \"))\n",
    "harga_makanan = int(input(\"Masukkan harga makanan: \"))\n",
    "print(\"Harga setelah diskon: Rp\", harga_setelah_diskon(umur, harga_makanan))"
   ]
  },
  {
   "cell_type": "code",
   "execution_count": 10,
   "id": "6354d22a-0b1b-4bd9-bf52-e73d48e06864",
   "metadata": {},
   "outputs": [
    {
     "name": "stdin",
     "output_type": "stream",
     "text": [
      "Masukkan nilai rapor:  85\n",
      "Masukkan penghasilan orang tua:  500000\n"
     ]
    },
    {
     "name": "stdout",
     "output_type": "stream",
     "text": [
      "Beasiswa 50%\n"
     ]
    }
   ],
   "source": [
    "# Program Beasiswa\n",
    "nilai = float(input(\"Masukkan nilai rapor: \"))\n",
    "penghasilan = int(input(\"Masukkan penghasilan orang tua: \"))\n",
    "\n",
    "if nilai >= 90 and penghasilan < 5000000:\n",
    "    print(\"Beasiswa Penuh\")\n",
    "elif nilai >= 85 and penghasilan < 8000000:\n",
    "    print(\"Beasiswa 50%\")\n",
    "else:\n",
    "    print(\"Tidak mendapatkan beasiswa\")\n"
   ]
  },
  {
   "cell_type": "code",
   "execution_count": 14,
   "id": "c8503d5a-cf97-48cf-95a9-1ca7157b06b4",
   "metadata": {},
   "outputs": [
    {
     "name": "stdin",
     "output_type": "stream",
     "text": [
      "Masukkan usia:  17\n",
      "Masukkan kategori film (Semua Umur/Remaja/Dewasa):  semua umur\n"
     ]
    },
    {
     "name": "stdout",
     "output_type": "stream",
     "text": [
      "Boleh menonton\n"
     ]
    }
   ],
   "source": [
    "#Sistem streaming film\n",
    "usia = int(input(\"Masukkan usia: \"))\n",
    "kategori = input(\"Masukkan kategori film (Semua Umur/Remaja/Dewasa): \").lower()\n",
    "\n",
    "if kategori == \"semua umur\":\n",
    "    print(\"Boleh menonton\")\n",
    "elif kategori == \"remaja\" and usia >= 13:\n",
    "    print(\"Boleh menonton\")\n",
    "elif kategori == \"dewasa\" and usia >= 18:\n",
    "    print(\"Boleh menonton\")\n",
    "else:\n",
    "    print(\"Tidak boleh menonton\")"
   ]
  },
  {
   "cell_type": "code",
   "execution_count": 16,
   "id": "9b6586a5-b7ba-4db7-95db-c9c8d293a826",
   "metadata": {},
   "outputs": [
    {
     "name": "stdin",
     "output_type": "stream",
     "text": [
      "Masukkan total belanja: Rp  450000\n"
     ]
    },
    {
     "name": "stdout",
     "output_type": "stream",
     "text": [
      "Harga akhir: Rp 405,000.00\n"
     ]
    }
   ],
   "source": [
    "#Diskon minimarket\n",
    "total_belanja = float(input(\"Masukkan total belanja: Rp \"))\n",
    "\n",
    "if total_belanja >= 500000:\n",
    "    diskon = 0.2\n",
    "elif total_belanja >= 250000:\n",
    "    diskon = 0.1\n",
    "else:\n",
    "    diskon = 0\n",
    "\n",
    "harga_akhir = total_belanja * (1 - diskon)\n",
    "print(f\"Harga akhir: Rp {harga_akhir:,.2f}\")"
   ]
  },
  {
   "cell_type": "code",
   "execution_count": 20,
   "id": "feb21c85-f0fb-41d3-b55b-62200f9d7e15",
   "metadata": {},
   "outputs": [
    {
     "name": "stdin",
     "output_type": "stream",
     "text": [
      "Masukkan jenis kendaraan (Mobil/Motor):  motor\n",
      "Masukkan durasi parkir (jam):  18\n"
     ]
    },
    {
     "name": "stdout",
     "output_type": "stream",
     "text": [
      "Total biaya parkir: Rp 46,000\n"
     ]
    }
   ],
   "source": [
    "#Parkir kampus \n",
    "jenis = input(\"Masukkan jenis kendaraan (Mobil/Motor): \").lower()\n",
    "durasi = int(input(\"Masukkan durasi parkir (jam): \"))\n",
    "\n",
    "if jenis == \"mobil\":\n",
    "    tarif = 5000\n",
    "else:\n",
    "    tarif = 2000\n",
    "\n",
    "total = tarif * durasi\n",
    "if durasi > 5:\n",
    "    total += 10000\n",
    "\n",
    "print(f\"Total biaya parkir: Rp {total:,}\")"
   ]
  },
  {
   "cell_type": "code",
   "execution_count": 25,
   "id": "98e4c4b9-6a20-4ee1-861e-ee8aec1beeb8",
   "metadata": {},
   "outputs": [
    {
     "name": "stdin",
     "output_type": "stream",
     "text": [
      "Masukkan jarak (km):  80\n"
     ]
    },
    {
     "name": "stdout",
     "output_type": "stream",
     "text": [
      "Tarif perjalanan: Rp 240,000.0\n"
     ]
    }
   ],
   "source": [
    "#Transportasi online\n",
    "jarak = float(input(\"Masukkan jarak (km): \"))\n",
    "\n",
    "if jarak <= 5:\n",
    "    tarif = 5000\n",
    "elif jarak <= 10:\n",
    "    tarif = 4000\n",
    "else:\n",
    "    tarif = 3000\n",
    "\n",
    "total = tarif * jarak\n",
    "print(f\"Tarif perjalanan: Rp {total:,}\")"
   ]
  },
  {
   "cell_type": "code",
   "execution_count": 29,
   "id": "e3223d9c-ef28-43eb-a0ed-0ca84dcfa46f",
   "metadata": {},
   "outputs": [
    {
     "name": "stdin",
     "output_type": "stream",
     "text": [
      "Masukkan nilai coding (0-100):  40\n",
      "Masukkan nilai interview (A/B/C/D):  E\n"
     ]
    },
    {
     "name": "stdout",
     "output_type": "stream",
     "text": [
      "Maaf, sskrasa. Kamu Belum Berhasil Menjadi Calon Programmer 😔\n"
     ]
    }
   ],
   "source": [
    "#Sleksi programer\n",
    "nilai_coding = int(input(\"Masukkan nilai coding (0-100): \"))\n",
    "nilai_interview = input(\"Masukkan nilai interview (A/B/C/D): \").upper()\n",
    "\n",
    "hasil_coding = \"GAGAL\"\n",
    "if nilai_coding > 80:\n",
    "    hasil_coding = \"LOLOS\"\n",
    "elif nilai_coding >= 40:\n",
    "    hasil_coding = \"DIPERTIMBANGKAN\"\n",
    "\n",
    "tes_interview = \"LOLOS\" if nilai_interview in [\"A\", \"B\"] else \"GAGAL\"\n",
    "\n",
    "if (hasil_coding in [\"LOLOS\", \"DIPERTIMBANGKAN\"]) and tes_interview == \"LOLOS\":\n",
    "    print(\"Selamat, sskrasa! Kamu Berhasil Menjadi Calon Programmer 🎉\")\n",
    "else:\n",
    "    print(\"Maaf, sskrasa. Kamu Belum Berhasil Menjadi Calon Programmer 😔\")\n"
   ]
  },
  {
   "cell_type": "code",
   "execution_count": 31,
   "id": "688e46e5-3ed2-4fe1-86b1-14a65d0b3cf3",
   "metadata": {},
   "outputs": [
    {
     "name": "stdin",
     "output_type": "stream",
     "text": [
      "Masukkan nomor punggung:  8\n"
     ]
    },
    {
     "name": "stdout",
     "output_type": "stream",
     "text": [
      "Nomor 8 dapat berfungsi sebagai: target attacker\n"
     ]
    }
   ],
   "source": [
    "#Nomor punggung pesapak bola\n",
    "nomor = int(input(\"Masukkan nomor punggung: \"))\n",
    "posisi = []\n",
    "\n",
    "if nomor % 2 == 0:\n",
    "    posisi.append(\"target attacker\")\n",
    "    if 50 <= nomor <= 100:\n",
    "        posisi.append(\"berhak dipilih menjadi capten team\")\n",
    "else:\n",
    "    posisi.append(\"defender\")\n",
    "    if nomor > 90:\n",
    "        posisi.append(\"Playmaker\")\n",
    "    if nomor % 3 == 0 and nomor % 5 == 0:\n",
    "        posisi.append(\"keeper\")\n",
    "\n",
    "print(f\"Nomor {nomor} dapat berfungsi sebagai: {', '.join(posisi)}\")"
   ]
  },
  {
   "cell_type": "code",
   "execution_count": 37,
   "id": "ec5085fc-9ec5-4307-8211-c071f2fa2843",
   "metadata": {},
   "outputs": [
    {
     "name": "stdout",
     "output_type": "stream",
     "text": [
      "sskrasa - TI 24A\n"
     ]
    }
   ],
   "source": [
    "print(\"sskrasa - TI 24A\")"
   ]
  },
  {
   "cell_type": "code",
   "execution_count": null,
   "id": "cddaf8c1-53cc-475b-9272-2891c238a125",
   "metadata": {},
   "outputs": [],
   "source": []
  }
 ],
 "metadata": {
  "kernelspec": {
   "display_name": "Python [conda env:base] *",
   "language": "python",
   "name": "conda-base-py"
  },
  "language_info": {
   "codemirror_mode": {
    "name": "ipython",
    "version": 3
   },
   "file_extension": ".py",
   "mimetype": "text/x-python",
   "name": "python",
   "nbconvert_exporter": "python",
   "pygments_lexer": "ipython3",
   "version": "3.12.7"
  }
 },
 "nbformat": 4,
 "nbformat_minor": 5
}
