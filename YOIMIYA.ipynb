{
 "cells": [
  {
   "cell_type": "code",
   "execution_count": 4,
   "id": "f388bf84",
   "metadata": {},
   "outputs": [
    {
     "name": "stdout",
     "output_type": "stream",
     "text": [
      "nama : Dedi\n",
      "umur : 20\n",
      "Alamat Jl. cibolang\n",
      "Nilain pemerograman : 80.5\n",
      "status pernikahan : False\n"
     ]
    }
   ],
   "source": [
    "\n",
    "name = \"Dedi\"\n",
    "age = 20\n",
    "address,province = \"Jl. cibolang\",\"7413412\"\n",
    "scorePhyton = 80.5\n",
    "isMarried = False\n",
    "\n",
    "print(\"nama :\",name)\n",
    "print(\"umur :\",age)\n",
    "print(\"Alamat\" ,address)\n",
    "print(\"Nilain pemerograman :\", scorePhyton)\n",
    "print(\"status pernikahan :\",isMarried)\n"
   ]
  },
  {
   "cell_type": "code",
   "execution_count": 5,
   "id": "21506291",
   "metadata": {},
   "outputs": [
    {
     "name": "stdout",
     "output_type": "stream",
     "text": [
      "Tipe Data <name> <class 'str'>\n",
      "Tipe Data <age> <class 'int'>\n",
      "Tipe Data <address> <class 'str'>\n",
      "Tipe Data <province> <class 'str'>\n",
      "Tipe Data <scorePhython <class 'float'>\n",
      "Tipe Data <isMarried> <class 'bool'>\n"
     ]
    }
   ],
   "source": [
    "print(\"Tipe Data <name>\",type(name))\n",
    "print(\"Tipe Data <age>\", type(age))\n",
    "print(\"Tipe Data <address>\", type(address))\n",
    "print(\"Tipe Data <province>\", type(province))\n",
    "print(\"Tipe Data <scorePhython\", type(scorePhyton))\n",
    "print(\"Tipe Data <isMarried>\", type(isMarried))"
   ]
  },
  {
   "cell_type": "code",
   "execution_count": 16,
   "id": "97a97cee",
   "metadata": {},
   "outputs": [
    {
     "name": "stdout",
     "output_type": "stream",
     "text": [
      "7413412-7413412.0-True\n",
      "20-20.0-True\n",
      "80.5-80-True\n",
      "False-0-0.0\n"
     ]
    }
   ],
   "source": [
    "#casting atau konversi Tipe Data\n",
    "#Konvrsi dari string ke (int,float,bool)\n",
    "strToInt = int (province)\n",
    "strToFloat = float (province)\n",
    "strToBool = bool (province)\n",
    "print (strToInt,strToFloat,strToBool, sep=\"-\")\n",
    "#Konversi dari int ke (str,float,bool)\n",
    "intToStr = str (age)\n",
    "intToFloat = float (age)\n",
    "intToBool = bool (age)\n",
    "print (intToStr,intToFloat,intToBool, sep=\"-\")\n",
    "#Konversi dari float ke (str,int,bool)\n",
    "floatToStr = str (scorePhyton)\n",
    "floatToInt = int (scorePhyton)\n",
    "floatToBool = bool (scorePhyton)\n",
    "print (floatToStr,floatToInt,floatToBool, sep=\"-\")\n",
    "#Konversi dari bool ke (str,in,float)\n",
    "boolToStr = str (isMarried)\n",
    "boolToInt = int (isMarried)\n",
    "boolToFloat = float (isMarried)\n",
    "print (boolToStr,boolToInt,boolToFloat, sep=\"-\")"
   ]
  },
  {
   "cell_type": "code",
   "execution_count": 20,
   "id": "960e13f9",
   "metadata": {},
   "outputs": [
    {
     "name": "stdout",
     "output_type": "stream",
     "text": [
      "['Narukami', 'Kanazuka', 'Watatsumi', 'Yasiro']\n",
      "Narukami\n",
      "Yasiro\n",
      "Y\n",
      "('Yoimiya', 'Ayaka', 'Ei')\n",
      "{'name': 'Yaemiko', 'address': 'Narukami Island Inazuma', 'age': 500, 'isMarried': 'Ya Bersama Sskrasa'}\n"
     ]
    }
   ],
   "source": [
    "#Tipe data Colection\n",
    "#List\n",
    "cities = [\"Narukami\",\"Kanazuka\",\"Watatsumi\",\"Yasiro\"]\n",
    "print(cities)\n",
    "print(cities[0])\n",
    "print(cities[len(cities)-1])\n",
    "cities[1] = \"seirai\"\n",
    "print(cities[len(cities)-1][0])\n",
    "#Touple\n",
    "names = (\"Yoimiya\",\"Ayaka\",\"Ei\")\n",
    "print(names)\n",
    "#nomes[0] = \"Itto\" akan menyebabakan eror, karena touple adalah immutable\n",
    "\n",
    "#Dictionary\n",
    "studenData = {\n",
    "    \"name\" : \"Yaemiko\",\n",
    "    \"address\" : \"Narukami Island Inazuma\",\n",
    "    \"age\" : 500,\n",
    "    \"isMarried\" : \"Ya Bersama Sskrasa\"\n",
    "}\n",
    "print(studenData)"
   ]
  },
  {
   "cell_type": "code",
   "execution_count": 33,
   "id": "71e977eb",
   "metadata": {},
   "outputs": [
    {
     "ename": "ValueError",
     "evalue": "dictionary update sequence element #1 has length 11; 2 is required",
     "output_type": "error",
     "traceback": [
      "\u001b[1;31m---------------------------------------------------------------------------\u001b[0m",
      "\u001b[1;31mValueError\u001b[0m                                Traceback (most recent call last)",
      "Input \u001b[1;32mIn [33]\u001b[0m, in \u001b[0;36m<cell line: 3>\u001b[1;34m()\u001b[0m\n\u001b[0;32m      1\u001b[0m \u001b[38;5;66;03m#casting dictionari\u001b[39;00m\n\u001b[0;32m      2\u001b[0m list_tuple \u001b[38;5;241m=\u001b[39m [(\u001b[38;5;124m\"\u001b[39m\u001b[38;5;124mNama\u001b[39m\u001b[38;5;124m\"\u001b[39m,\u001b[38;5;124m\"\u001b[39m\u001b[38;5;124mYoimiya\u001b[39m\u001b[38;5;124m\"\u001b[39m), (\u001b[38;5;124m\"\u001b[39m\u001b[38;5;124mTinggi, 158\u001b[39m\u001b[38;5;124m\"\u001b[39m)]\n\u001b[1;32m----> 3\u001b[0m dictNama \u001b[38;5;241m=\u001b[39m \u001b[38;5;28;43mdict\u001b[39;49m\u001b[43m(\u001b[49m\u001b[43mlist_tuple\u001b[49m\u001b[43m)\u001b[49m\n\u001b[0;32m      4\u001b[0m \u001b[38;5;28mprint\u001b[39m(dictNama)\n\u001b[0;32m      6\u001b[0m list_list \u001b[38;5;241m=\u001b[39m [{\u001b[38;5;124m\"\u001b[39m\u001b[38;5;124mNama\u001b[39m\u001b[38;5;124m\"\u001b[39m,\u001b[38;5;124m\"\u001b[39m\u001b[38;5;124mYoimiya\u001b[39m\u001b[38;5;124m\"\u001b[39m},{\u001b[38;5;124m\"\u001b[39m\u001b[38;5;124mMahar\u001b[39m\u001b[38;5;124m\"\u001b[39m,\u001b[38;5;124m\"\u001b[39m\u001b[38;5;124m5000000 Mora\u001b[39m\u001b[38;5;124m\"\u001b[39m}]\n",
      "\u001b[1;31mValueError\u001b[0m: dictionary update sequence element #1 has length 11; 2 is required"
     ]
    }
   ],
   "source": [
    "#casting dictionari\n",
    "list_tuple = [(\"Nama\",\"Yoimiya\"), (\"Tinggi, 158\")]\n",
    "dictNama = dict(list_tuple)\n",
    "print(dictNama)\n",
    "\n",
    "list_list = [{\"Nama\",\"Yoimiya\"},{\"Mahar\",\"5000000 Mora\"}]\n",
    "dictNama = dict(list_list)\n",
    "print(dictNama)\n",
    "\n",
    "tuple_tuple =[\"Nama\",\"yoimiya\"],[\"Mahar\",\"5000000 Mora\"]\n",
    "dictNama = dict(tuple_tuple)\n",
    "print(dict_nama)"
   ]
  },
  {
   "cell_type": "code",
   "execution_count": null,
   "id": "16434adb",
   "metadata": {},
   "outputs": [],
   "source": []
  },
  {
   "cell_type": "code",
   "execution_count": null,
   "id": "3507626b",
   "metadata": {},
   "outputs": [],
   "source": []
  },
  {
   "cell_type": "code",
   "execution_count": null,
   "id": "1523e214",
   "metadata": {},
   "outputs": [],
   "source": []
  },
  {
   "cell_type": "code",
   "execution_count": null,
   "id": "0d28e174",
   "metadata": {},
   "outputs": [],
   "source": []
  }
 ],
 "metadata": {
  "kernelspec": {
   "display_name": "Python 3 (ipykernel)",
   "language": "python",
   "name": "python3"
  },
  "language_info": {
   "codemirror_mode": {
    "name": "ipython",
    "version": 3
   },
   "file_extension": ".py",
   "mimetype": "text/x-python",
   "name": "python",
   "nbconvert_exporter": "python",
   "pygments_lexer": "ipython3",
   "version": "3.9.12"
  }
 },
 "nbformat": 4,
 "nbformat_minor": 5
}
